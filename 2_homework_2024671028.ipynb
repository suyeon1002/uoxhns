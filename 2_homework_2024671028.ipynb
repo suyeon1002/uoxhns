{
  "nbformat": 4,
  "nbformat_minor": 0,
  "metadata": {
    "colab": {
      "provenance": [],
      "authorship_tag": "ABX9TyPqRHTQFn+YD/tTYoao6Upx",
      "include_colab_link": true
    },
    "kernelspec": {
      "name": "python3",
      "display_name": "Python 3"
    },
    "language_info": {
      "name": "python"
    }
  },
  "cells": [
    {
      "cell_type": "markdown",
      "metadata": {
        "id": "view-in-github",
        "colab_type": "text"
      },
      "source": [
        "<a href=\"https://colab.research.google.com/github/suyeon1002/uoxhns/blob/main/2_homework_2024671028.ipynb\" target=\"_parent\"><img src=\"https://colab.research.google.com/assets/colab-badge.svg\" alt=\"Open In Colab\"/></a>"
      ]
    },
    {
      "cell_type": "code",
      "execution_count": 1,
      "metadata": {
        "colab": {
          "base_uri": "https://localhost:8080/"
        },
        "id": "Eix3q5hr02y3",
        "outputId": "793add9b-03c1-4bf0-f95a-105bc5b8cdee"
      },
      "outputs": [
        {
          "output_type": "stream",
          "name": "stdout",
          "text": [
            "LinearRegression: R² = 0.4526, MSE = 2900.1936\n",
            "Ridge: R² = 0.4605, MSE = 2858.2243\n",
            "    Best alpha: 100.0\n",
            "Lasso: R² = 0.4669, MSE = 2824.5681\n",
            "    Best alpha: 1.0\n",
            "\n",
            ">> 가장 높은 R² score를 보인 모델은 'Lasso' 입니다.\n"
          ]
        }
      ],
      "source": [
        "from sklearn.datasets import load_diabetes\n",
        "from sklearn.linear_model import LinearRegression, Ridge, Lasso\n",
        "from sklearn.preprocessing import StandardScaler\n",
        "from sklearn.model_selection import train_test_split\n",
        "from sklearn.metrics import mean_squared_error, r2_score\n",
        "import matplotlib.pyplot as plt\n",
        "import numpy as np\n",
        "\n",
        "# 데이터 로딩 및 분할\n",
        "diabetes = load_diabetes()\n",
        "X, y = diabetes.data, diabetes.target\n",
        "X_train, X_test, y_train, y_test = train_test_split(\n",
        "    X, y, test_size=0.2, random_state=42)\n",
        "\n",
        "# 정규화\n",
        "scaler = StandardScaler()\n",
        "X_train_scaled = scaler.fit_transform(X_train)\n",
        "X_test_scaled = scaler.transform(X_test)\n",
        "\n",
        "# 모델 리스트 및 결과 저장용 dict\n",
        "models = {\n",
        "    'LinearRegression': LinearRegression(),\n",
        "    'Ridge': None,  # 후에 하이퍼파라미터 튜닝\n",
        "    'Lasso': None\n",
        "}\n",
        "results = {}\n",
        "\n",
        "# Linear Regression\n",
        "lr_model = LinearRegression()\n",
        "lr_model.fit(X_train_scaled, y_train)\n",
        "y_pred_lr = lr_model.predict(X_test_scaled)\n",
        "results['LinearRegression'] = {\n",
        "    'model': lr_model,\n",
        "    'r2': r2_score(y_test, y_pred_lr),\n",
        "    'mse': mean_squared_error(y_test, y_pred_lr)\n",
        "}\n",
        "\n",
        "# Ridge Regression with best alpha\n",
        "best_r2_ridge = -np.inf\n",
        "best_alpha_ridge = None\n",
        "for alpha in [0.01, 0.1, 1.0, 10.0, 100.0]:\n",
        "    ridge_model = Ridge(alpha=alpha)\n",
        "    ridge_model.fit(X_train_scaled, y_train)\n",
        "    y_pred_ridge = ridge_model.predict(X_test_scaled)\n",
        "    score = r2_score(y_test, y_pred_ridge)\n",
        "    if score > best_r2_ridge:\n",
        "        best_r2_ridge = score\n",
        "        best_alpha_ridge = alpha\n",
        "        best_ridge_model = ridge_model\n",
        "\n",
        "results['Ridge'] = {\n",
        "    'model': best_ridge_model,\n",
        "    'r2': best_r2_ridge,\n",
        "    'mse': mean_squared_error(y_test, best_ridge_model.predict(X_test_scaled)),\n",
        "    'alpha': best_alpha_ridge\n",
        "}\n",
        "\n",
        "# Lasso Regression with best alpha\n",
        "best_r2_lasso = -np.inf\n",
        "best_alpha_lasso = None\n",
        "for alpha in [0.01, 0.1, 1.0, 10.0, 100.0]:\n",
        "    lasso_model = Lasso(alpha=alpha, max_iter=10000)\n",
        "    lasso_model.fit(X_train_scaled, y_train)\n",
        "    y_pred_lasso = lasso_model.predict(X_test_scaled)\n",
        "    score = r2_score(y_test, y_pred_lasso)\n",
        "    if score > best_r2_lasso:\n",
        "        best_r2_lasso = score\n",
        "        best_alpha_lasso = alpha\n",
        "        best_lasso_model = lasso_model\n",
        "\n",
        "results['Lasso'] = {\n",
        "    'model': best_lasso_model,\n",
        "    'r2': best_r2_lasso,\n",
        "    'mse': mean_squared_error(y_test, best_lasso_model.predict(X_test_scaled)),\n",
        "    'alpha': best_alpha_lasso\n",
        "}\n",
        "\n",
        "# 결과 출력\n",
        "for name, res in results.items():\n",
        "    print(f\"{name}: R² = {res['r2']:.4f}, MSE = {res['mse']:.4f}\")\n",
        "    if 'alpha' in res:\n",
        "        print(f\"    Best alpha: {res['alpha']}\")\n",
        "\n",
        "# 최고 성능 모델 확인\n",
        "best_model_name = max(results, key=lambda x: results[x]['r2'])\n",
        "print(f\"\\n>> 가장 높은 R² score를 보인 모델은 '{best_model_name}' 입니다.\")\n"
      ]
    }
  ]
}